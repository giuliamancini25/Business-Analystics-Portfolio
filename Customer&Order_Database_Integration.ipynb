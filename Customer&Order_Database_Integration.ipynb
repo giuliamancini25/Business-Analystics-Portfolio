{
 "cells": [
  {
   "cell_type": "markdown",
   "metadata": {},
   "source": [
    "\n",
    "## Giulia Mancini\n"
   ]
  },
  {
   "cell_type": "markdown",
   "metadata": {},
   "source": [
    "##### a) Load CSV files ‘customers.csv’, ‘order_items.csv’, ‘orders.csv’, and ‘products.csv’ and then populate (fill) an SQLite database with that data in tables for each file\n"
   ]
  },
  {
   "cell_type": "markdown",
   "metadata": {},
   "source": [
    "Import packages \n"
   ]
  },
  {
   "cell_type": "code",
   "execution_count": null,
   "metadata": {},
   "outputs": [],
   "source": [
    "import sqlite3\n",
    "import pandas as pd"
   ]
  },
  {
   "cell_type": "markdown",
   "metadata": {},
   "source": [
    "\n",
    "We will load data from `customers.csv`, `order_items.csv`, `orders.csv`, and `products.csv` into an SQLite database.\n"
   ]
  },
  {
   "cell_type": "code",
   "execution_count": null,
   "metadata": {},
   "outputs": [],
   "source": [
    "file_paths = {\n",
    "    \"customers\": \"/Users/giuliamancini/Desktop/customers.csv\",\n",
    "    \"order_items\": \"/Users/giuliamancini/Desktop/order_items.csv\",\n",
    "    \"orders\": \"/Users/giuliamancini/Desktop/orders.csv\",\n",
    "    \"products\": \"/Users/giuliamancini/Desktop/products.csv\"\n",
    "}"
   ]
  },
  {
   "cell_type": "markdown",
   "metadata": {},
   "source": [
    "I used this path because all my docs are in my Desktop.\n",
    "\n",
    "Load CSVs into DataFrames"
   ]
  },
  {
   "cell_type": "code",
   "execution_count": null,
   "metadata": {},
   "outputs": [],
   "source": [
    "dfs = {name: pd.read_csv(path) for name, path in file_paths.items()}"
   ]
  },
  {
   "cell_type": "markdown",
   "metadata": {},
   "source": [
    "Connect to SQLite database"
   ]
  },
  {
   "cell_type": "code",
   "execution_count": null,
   "metadata": {},
   "outputs": [],
   "source": [
    "db_path = \"/Users/giuliamancini/Desktop/store_database.sqlite\"\n",
    "conn = sqlite3.connect(db_path)\n",
    "cursor = conn.cursor()"
   ]
  },
  {
   "cell_type": "markdown",
   "metadata": {},
   "source": [
    "Define table creation queries"
   ]
  },
  {
   "cell_type": "code",
   "execution_count": null,
   "metadata": {},
   "outputs": [],
   "source": [
    "table_schemas = {\n",
    "    \"customers\": \"\"\"\n",
    "        CREATE TABLE IF NOT EXISTS customers (\n",
    "            customer_id INTEGER PRIMARY KEY,\n",
    "            name TEXT NOT NULL,\n",
    "            email TEXT\n",
    "        )\n",
    "    \"\"\",\n",
    "    \"orders\": \"\"\"\n",
    "        CREATE TABLE IF NOT EXISTS orders (\n",
    "            order_id INTEGER PRIMARY KEY,\n",
    "            customer_id INTEGER,\n",
    "            order_date TEXT,\n",
    "            FOREIGN KEY (customer_id) REFERENCES customers(customer_id)\n",
    "        )\n",
    "    \"\"\",\n",
    "    \"products\": \"\"\"\n",
    "        CREATE TABLE IF NOT EXISTS products (\n",
    "            product_id INTEGER PRIMARY KEY,\n",
    "            product_name TEXT NOT NULL,\n",
    "            category TEXT,\n",
    "            price REAL\n",
    "        )\n",
    "    \"\"\",\n",
    "    \"order_items\": \"\"\"\n",
    "        CREATE TABLE IF NOT EXISTS order_items (\n",
    "            id INTEGER PRIMARY KEY,\n",
    "            order_id INTEGER,\n",
    "            product_id INTEGER,\n",
    "            quantity INTEGER,\n",
    "            FOREIGN KEY (order_id) REFERENCES orders(order_id),\n",
    "            FOREIGN KEY (product_id) REFERENCES products(product_id)\n",
    "        )\n",
    "    \"\"\"\n",
    "}"
   ]
  },
  {
   "cell_type": "markdown",
   "metadata": {},
   "source": [
    "Create tables"
   ]
  },
  {
   "cell_type": "code",
   "execution_count": null,
   "metadata": {},
   "outputs": [],
   "source": [
    "for table, schema in table_schemas.items():\n",
    "    cursor.execute(schema)"
   ]
  },
  {
   "cell_type": "markdown",
   "metadata": {},
   "source": [
    "Insert data into tables"
   ]
  },
  {
   "cell_type": "code",
   "execution_count": null,
   "metadata": {},
   "outputs": [],
   "source": [
    "for table, df in dfs.items():\n",
    "    df.to_sql(table, conn, if_exists=\"replace\", index=False)"
   ]
  },
  {
   "cell_type": "markdown",
   "metadata": {},
   "source": [
    "Verify tables"
   ]
  },
  {
   "cell_type": "code",
   "execution_count": null,
   "metadata": {},
   "outputs": [
    {
     "name": "stdout",
     "output_type": "stream",
     "text": [
      "Tables in database: [('customers',), ('order_items',), ('orders',), ('products',)]\n"
     ]
    }
   ],
   "source": [
    "cursor.execute(\"SELECT name FROM sqlite_master WHERE type='table';\")\n",
    "print(\"Tables in database:\", cursor.fetchall())"
   ]
  },
  {
   "cell_type": "markdown",
   "metadata": {},
   "source": [
    "Check if tables contain data by querying the first 5 rows."
   ]
  },
  {
   "cell_type": "code",
   "execution_count": null,
   "metadata": {},
   "outputs": [
    {
     "name": "stdout",
     "output_type": "stream",
     "text": [
      "\n",
      " * CUSTOMERS TABLE:\n",
      "   customer_id       name                  email\n",
      "0            1  Customer1  customer1@example.com\n",
      "1            2  Customer2  customer2@example.com\n",
      "2            3  Customer3  customer3@example.com\n",
      "3            4  Customer4  customer4@example.com\n",
      "4            5  Customer5  customer5@example.com\n",
      "\n",
      " * ORDERS TABLE:\n",
      "   order_id  customer_id  order_date\n",
      "0         1            1  2024-11-28\n",
      "1         2            6  2024-12-02\n",
      "2         3           14  2025-01-08\n",
      "3         4           11  2024-09-12\n",
      "4         5            9  2024-12-24\n",
      "\n",
      " * PRODUCTS TABLE:\n",
      "   product_id product_name     category  price\n",
      "0           1     Product1  Electronics  47.97\n",
      "1           2     Product2  Electronics  12.68\n",
      "2           3     Product3     Clothing  29.68\n",
      "3           4     Product4        Books  55.48\n",
      "4           5     Product5        Books  12.39\n",
      "\n",
      " * ORDER_ITEMS TABLE:\n",
      "   order_item_id  order_id  product_id  quantity  price\n",
      "0              1         1           5         2  12.39\n",
      "1              2         2           9         5  29.84\n",
      "2              3         3          10         4  63.03\n",
      "3              4         3          10         4  63.03\n",
      "4              5         4           4         2  55.48\n"
     ]
    }
   ],
   "source": [
    "conn = sqlite3.connect(db_path)\n",
    "\n",
    "# Query and display first 5 rows of each table\n",
    "tables = [\"customers\", \"orders\", \"products\", \"order_items\"]\n",
    "for table in tables:\n",
    "    df = pd.read_sql_query(f\"SELECT * FROM {table} LIMIT 5;\", conn)\n",
    "    print(f\"\\n * {table.upper()} TABLE:\")\n",
    "    print(df)\n"
   ]
  },
  {
   "cell_type": "markdown",
   "metadata": {},
   "source": [
    "Close the database connection"
   ]
  },
  {
   "cell_type": "code",
   "execution_count": null,
   "metadata": {},
   "outputs": [],
   "source": [
    "conn.close()"
   ]
  },
  {
   "cell_type": "markdown",
   "metadata": {},
   "source": [
    "Connect to the SQLite database"
   ]
  },
  {
   "cell_type": "code",
   "execution_count": null,
   "metadata": {},
   "outputs": [],
   "source": [
    "conn = sqlite3.connect(db_path)\n",
    "cursor = conn.cursor()"
   ]
  },
  {
   "cell_type": "markdown",
   "metadata": {},
   "source": [
    "#### b) List all customers and any orders they may have placed (customers with no orders will show NULL in order details)"
   ]
  },
  {
   "cell_type": "code",
   "execution_count": null,
   "metadata": {},
   "outputs": [
    {
     "name": "stdout",
     "output_type": "stream",
     "text": [
      "\n",
      " * b) CUSTOMERS AND THEIR ORDERS:\n",
      "    customer_id customer_name                   email  order_id  order_date\n",
      "0             1     Customer1   customer1@example.com       1.0  2024-11-28\n",
      "1             2     Customer2   customer2@example.com      17.0  2024-11-25\n",
      "2             2     Customer2   customer2@example.com      30.0  2024-12-24\n",
      "3             3     Customer3   customer3@example.com      10.0  2024-09-28\n",
      "4             3     Customer3   customer3@example.com      22.0  2025-01-05\n",
      "5             3     Customer3   customer3@example.com      29.0  2024-11-20\n",
      "6             3     Customer3   customer3@example.com      33.0  2024-10-08\n",
      "7             4     Customer4   customer4@example.com       9.0  2025-02-12\n",
      "8             4     Customer4   customer4@example.com      12.0  2025-01-18\n",
      "9             4     Customer4   customer4@example.com      20.0  2024-09-07\n",
      "10            4     Customer4   customer4@example.com      35.0  2025-01-07\n",
      "11            5     Customer5   customer5@example.com       6.0  2024-09-04\n",
      "12            6     Customer6   customer6@example.com       2.0  2024-12-02\n",
      "13            6     Customer6   customer6@example.com      40.0  2024-11-05\n",
      "14            7     Customer7   customer7@example.com       7.0  2024-09-09\n",
      "15            7     Customer7   customer7@example.com      28.0  2024-12-12\n",
      "16            8     Customer8   customer8@example.com      31.0  2025-02-14\n",
      "17            8     Customer8   customer8@example.com      34.0  2024-12-12\n",
      "18            9     Customer9   customer9@example.com       5.0  2024-12-24\n",
      "19            9     Customer9   customer9@example.com      16.0  2024-11-04\n",
      "20            9     Customer9   customer9@example.com      37.0  2024-10-26\n",
      "21           10    Customer10  customer10@example.com      24.0  2024-12-09\n",
      "22           10    Customer10  customer10@example.com      32.0  2025-01-07\n",
      "23           11    Customer11  customer11@example.com       4.0  2024-09-12\n",
      "24           11    Customer11  customer11@example.com       8.0  2024-09-18\n",
      "25           12    Customer12  customer12@example.com      13.0  2024-10-17\n",
      "26           12    Customer12  customer12@example.com      14.0  2024-12-30\n",
      "27           12    Customer12  customer12@example.com      26.0  2025-01-03\n",
      "28           12    Customer12  customer12@example.com      39.0  2024-09-19\n",
      "29           13    Customer13  customer13@example.com      11.0  2024-09-21\n",
      "30           13    Customer13  customer13@example.com      21.0  2024-10-11\n",
      "31           13    Customer13  customer13@example.com      36.0  2024-09-16\n",
      "32           14    Customer14  customer14@example.com       3.0  2025-01-08\n",
      "33           15    Customer15  customer15@example.com      18.0  2024-12-23\n",
      "34           15    Customer15  customer15@example.com      38.0  2024-11-21\n",
      "35           16    Customer16  customer16@example.com       NaN        None\n",
      "36           17    Customer17  customer17@example.com       NaN        None\n",
      "37           18    Customer18  customer18@example.com      19.0  2024-09-20\n",
      "38           18    Customer18  customer18@example.com      23.0  2024-09-08\n",
      "39           19    Customer19  customer19@example.com      27.0  2025-02-22\n",
      "40           20    Customer20  customer20@example.com      15.0  2025-01-20\n",
      "41           20    Customer20  customer20@example.com      25.0  2025-02-16\n"
     ]
    }
   ],
   "source": [
    "# Query to list all customers and their orders (if any)\n",
    "query = \"\"\"\n",
    "SELECT \n",
    "    c.customer_id, \n",
    "    c.name AS customer_name, \n",
    "    c.email, \n",
    "    o.order_id, \n",
    "    o.order_date\n",
    "FROM customers c\n",
    "LEFT JOIN orders o ON c.customer_id = o.customer_id;\n",
    "\"\"\"\n",
    "\n",
    "# Execute the query and load the result into a DataFrame\n",
    "df = pd.read_sql_query(query, conn)\n",
    "\n",
    "# Display the result\n",
    "print(\"\\n * b) CUSTOMERS AND THEIR ORDERS:\")\n",
    "print(df)\n"
   ]
  },
  {
   "cell_type": "markdown",
   "metadata": {},
   "source": [
    "#### c) For each order, list its items with detailed product information"
   ]
  },
  {
   "cell_type": "code",
   "execution_count": null,
   "metadata": {},
   "outputs": [
    {
     "name": "stdout",
     "output_type": "stream",
     "text": [
      "\n",
      " * c) ORDER DETAILS WITH PRODUCT INFORMATION:\n",
      "    order_id  customer_id  order_date  product_id product_name     category  \\\n",
      "0          1            1  2024-11-28           5     Product5        Books   \n",
      "1          2            6  2024-12-02           9     Product9  Electronics   \n",
      "2          3           14  2025-01-08          10    Product10         Toys   \n",
      "3          3           14  2025-01-08          10    Product10         Toys   \n",
      "4          4           11  2024-09-12           4     Product4        Books   \n",
      "..       ...          ...         ...         ...          ...          ...   \n",
      "65        38           15  2024-11-21           4     Product4        Books   \n",
      "66        39           12  2024-09-19           1     Product1  Electronics   \n",
      "67        39           12  2024-09-19           5     Product5        Books   \n",
      "68        40            6  2024-11-05           7     Product7  Electronics   \n",
      "69        40            6  2024-11-05           8     Product8         Toys   \n",
      "\n",
      "    product_price  quantity  total_cost  \n",
      "0           12.39         2       24.78  \n",
      "1           29.84         5      149.20  \n",
      "2           63.03         4      252.12  \n",
      "3           63.03         4      252.12  \n",
      "4           55.48         2      110.96  \n",
      "..            ...       ...         ...  \n",
      "65          55.48         4      221.92  \n",
      "66          47.97         4      191.88  \n",
      "67          12.39         4       49.56  \n",
      "68          68.49         5      342.45  \n",
      "69          59.04         2      118.08  \n",
      "\n",
      "[70 rows x 9 columns]\n"
     ]
    }
   ],
   "source": [
    "# Query to list each order with item details and product info\n",
    "query = \"\"\"\n",
    "SELECT \n",
    "    o.order_id,\n",
    "    o.customer_id,\n",
    "    o.order_date,\n",
    "    oi.product_id,\n",
    "    p.product_name,\n",
    "    p.category,\n",
    "    p.price AS product_price,\n",
    "    oi.quantity,\n",
    "    (p.price * oi.quantity) AS total_cost\n",
    "FROM orders o\n",
    "JOIN order_items oi ON o.order_id = oi.order_id\n",
    "JOIN products p ON oi.product_id = p.product_id\n",
    "ORDER BY o.order_id;\n",
    "\"\"\"\n",
    "\n",
    "# Execute the query and load the result into a DataFrame\n",
    "df = pd.read_sql_query(query, conn)\n",
    "\n",
    "# Display the result\n",
    "print(\"\\n * c) ORDER DETAILS WITH PRODUCT INFORMATION:\")\n",
    "print(df)"
   ]
  },
  {
   "cell_type": "markdown",
   "metadata": {},
   "source": [
    "#### d) Get a complete view of each order including customer details and product details. (all table data)"
   ]
  },
  {
   "cell_type": "code",
   "execution_count": null,
   "metadata": {},
   "outputs": [
    {
     "name": "stdout",
     "output_type": "stream",
     "text": [
      "\n",
      " * d) COMPLETE VIEW OF EACH ORDER (CUSTOMER + PRODUCT DETAILS):\n",
      "    order_id  order_date  customer_id customer_name          customer_email  \\\n",
      "0          1  2024-11-28            1     Customer1   customer1@example.com   \n",
      "1          2  2024-12-02            6     Customer6   customer6@example.com   \n",
      "2          3  2025-01-08           14    Customer14  customer14@example.com   \n",
      "3          3  2025-01-08           14    Customer14  customer14@example.com   \n",
      "4          4  2024-09-12           11    Customer11  customer11@example.com   \n",
      "..       ...         ...          ...           ...                     ...   \n",
      "65        38  2024-11-21           15    Customer15  customer15@example.com   \n",
      "66        39  2024-09-19           12    Customer12  customer12@example.com   \n",
      "67        39  2024-09-19           12    Customer12  customer12@example.com   \n",
      "68        40  2024-11-05            6     Customer6   customer6@example.com   \n",
      "69        40  2024-11-05            6     Customer6   customer6@example.com   \n",
      "\n",
      "    product_id product_name     category  product_price  quantity  total_cost  \n",
      "0            5     Product5        Books          12.39         2       24.78  \n",
      "1            9     Product9  Electronics          29.84         5      149.20  \n",
      "2           10    Product10         Toys          63.03         4      252.12  \n",
      "3           10    Product10         Toys          63.03         4      252.12  \n",
      "4            4     Product4        Books          55.48         2      110.96  \n",
      "..         ...          ...          ...            ...       ...         ...  \n",
      "65           4     Product4        Books          55.48         4      221.92  \n",
      "66           1     Product1  Electronics          47.97         4      191.88  \n",
      "67           5     Product5        Books          12.39         4       49.56  \n",
      "68           7     Product7  Electronics          68.49         5      342.45  \n",
      "69           8     Product8         Toys          59.04         2      118.08  \n",
      "\n",
      "[70 rows x 11 columns]\n"
     ]
    }
   ],
   "source": [
    "# Query to get a complete view of each order with customer & product details\n",
    "query = \"\"\"\n",
    "SELECT \n",
    "    o.order_id,\n",
    "    o.order_date,\n",
    "    c.customer_id,\n",
    "    c.name AS customer_name,\n",
    "    c.email AS customer_email,\n",
    "    oi.product_id,\n",
    "    p.product_name,\n",
    "    p.category,\n",
    "    p.price AS product_price,\n",
    "    oi.quantity,\n",
    "    (p.price * oi.quantity) AS total_cost\n",
    "FROM orders o\n",
    "JOIN customers c ON o.customer_id = c.customer_id\n",
    "JOIN order_items oi ON o.order_id = oi.order_id\n",
    "JOIN products p ON oi.product_id = p.product_id\n",
    "ORDER BY o.order_id;\n",
    "\"\"\"\n",
    "\n",
    "# Execute the query and load the result into a DataFrame\n",
    "df = pd.read_sql_query(query, conn)\n",
    "\n",
    "# Display the result\n",
    "print(\"\\n * d) COMPLETE VIEW OF EACH ORDER (CUSTOMER + PRODUCT DETAILS):\")\n",
    "print(df)"
   ]
  },
  {
   "cell_type": "markdown",
   "metadata": {},
   "source": [
    "#### e) For each customer, count the number of orders and compute the total amount spent."
   ]
  },
  {
   "cell_type": "code",
   "execution_count": null,
   "metadata": {},
   "outputs": [
    {
     "name": "stdout",
     "output_type": "stream",
     "text": [
      "\n",
      " * e) CUSTOMER ORDER COUNT & TOTAL AMOUNT SPENT:\n",
      "    customer_id customer_name  total_orders  total_amount_spent\n",
      "0             7     Customer7             5             1047.27\n",
      "1             4     Customer4             9              889.59\n",
      "2            12    Customer12             8              832.95\n",
      "3             3     Customer3             5              632.67\n",
      "4             2     Customer2             3              628.20\n",
      "5             6     Customer6             3              609.73\n",
      "6             8     Customer8             5              594.19\n",
      "7            14    Customer14             2              504.24\n",
      "8            19    Customer19             3              492.91\n",
      "9             9     Customer9             5              453.33\n",
      "10           15    Customer15             3              379.81\n",
      "11           18    Customer18             4              372.28\n",
      "12           11    Customer11             4              323.56\n",
      "13           13    Customer13             5              311.79\n",
      "14           10    Customer10             2              290.08\n",
      "15            5     Customer5             1              118.72\n",
      "16           20    Customer20             2              108.62\n",
      "17            1     Customer1             1               24.78\n",
      "18           17    Customer17             0                0.00\n",
      "19           16    Customer16             0                0.00\n"
     ]
    }
   ],
   "source": [
    "# Query to get number of orders and total amount spent per customer\n",
    "query = \"\"\"\n",
    "SELECT \n",
    "    c.customer_id,\n",
    "    c.name AS customer_name,\n",
    "    COUNT(o.order_id) AS total_orders,\n",
    "    COALESCE(SUM(p.price * oi.quantity), 0) AS total_amount_spent\n",
    "FROM customers c\n",
    "LEFT JOIN orders o ON c.customer_id = o.customer_id\n",
    "LEFT JOIN order_items oi ON o.order_id = oi.order_id\n",
    "LEFT JOIN products p ON oi.product_id = p.product_id\n",
    "GROUP BY c.customer_id\n",
    "ORDER BY total_amount_spent DESC;\n",
    "\"\"\"\n",
    "\n",
    "# Execute the query and load the result into a DataFrame\n",
    "df = pd.read_sql_query(query, conn)\n",
    "\n",
    "# Display the result\n",
    "print(\"\\n * e) CUSTOMER ORDER COUNT & TOTAL AMOUNT SPENT:\")\n",
    "print(df)"
   ]
  },
  {
   "cell_type": "markdown",
   "metadata": {},
   "source": [
    "#### f) For each product, sum up the quantities sold across all orders"
   ]
  },
  {
   "cell_type": "code",
   "execution_count": null,
   "metadata": {},
   "outputs": [
    {
     "name": "stdout",
     "output_type": "stream",
     "text": [
      "\n",
      " * f) TOTAL QUANTITY SOLD PER PRODUCT:\n",
      "   product_id product_name     category  total_quantity_sold\n",
      "0           2     Product2  Electronics                   34\n",
      "1           9     Product9  Electronics                   26\n",
      "2           7     Product7  Electronics                   25\n",
      "3           5     Product5        Books                   24\n",
      "4          10    Product10         Toys                   23\n",
      "5           8     Product8         Toys                   23\n",
      "6           4     Product4        Books                   21\n",
      "7           3     Product3     Clothing                   16\n",
      "8           1     Product1  Electronics                   14\n",
      "9           6     Product6        Books                   10\n"
     ]
    }
   ],
   "source": [
    "# Query to sum up the total quantity sold per product\n",
    "query = \"\"\"\n",
    "SELECT \n",
    "    p.product_id,\n",
    "    p.product_name,\n",
    "    p.category,\n",
    "    SUM(oi.quantity) AS total_quantity_sold\n",
    "FROM products p\n",
    "LEFT JOIN order_items oi ON p.product_id = oi.product_id\n",
    "GROUP BY p.product_id\n",
    "ORDER BY total_quantity_sold DESC;\n",
    "\"\"\"\n",
    "\n",
    "# Execute the query and load the result into a DataFrame\n",
    "df = pd.read_sql_query(query, conn)\n",
    "\n",
    "# Display the result\n",
    "print(\"\\n * f) TOTAL QUANTITY SOLD PER PRODUCT:\")\n",
    "print(df)"
   ]
  },
  {
   "cell_type": "markdown",
   "metadata": {},
   "source": [
    "Close the connection:\n"
   ]
  },
  {
   "cell_type": "code",
   "execution_count": null,
   "metadata": {},
   "outputs": [],
   "source": [
    "conn.close()"
   ]
  }
 ],
 "metadata": {
  "kernelspec": {
   "display_name": "Python 3",
   "language": "python",
   "name": "python3"
  },
  "language_info": {
   "codemirror_mode": {
    "name": "ipython",
    "version": 3
   },
   "file_extension": ".py",
   "mimetype": "text/x-python",
   "name": "python",
   "nbconvert_exporter": "python",
   "pygments_lexer": "ipython3",
   "version": "3.13.0"
  }
 },
 "nbformat": 4,
 "nbformat_minor": 2
}
