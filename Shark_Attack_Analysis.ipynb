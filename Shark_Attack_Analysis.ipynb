{
 "cells": [
  {
   "cell_type": "markdown",
   "metadata": {},
   "source": [
    "\n",
    "## Giulia Mancini\n"
   ]
  },
  {
   "cell_type": "code",
   "execution_count": 19,
   "metadata": {},
   "outputs": [],
   "source": [
    "import pandas as pd\n",
    "import numpy as np\n",
    "from sklearn.model_selection import train_test_split\n",
    "from sklearn.preprocessing import LabelEncoder, StandardScaler\n",
    "from sklearn.svm import SVC\n",
    "from sklearn.metrics import accuracy_score, classification_report, roc_curve, auc\n",
    "from sklearn.linear_model import LogisticRegression\n",
    "from sklearn.metrics import mean_squared_error\n",
    "from sklearn.tree import DecisionTreeClassifier\n",
    "from sklearn.ensemble import RandomForestRegressor\n",
    "from sklearn.tree import DecisionTreeRegressor\n",
    "from sklearn.linear_model import LinearRegression\n"
   ]
  },
  {
   "cell_type": "markdown",
   "metadata": {},
   "source": [
    "#### a) Load the data ‘global_shark_attacks.csv’ into a pandas dataframe."
   ]
  },
  {
   "cell_type": "markdown",
   "metadata": {},
   "source": [
    "Load the dataset"
   ]
  },
  {
   "cell_type": "code",
   "execution_count": 20,
   "metadata": {},
   "outputs": [],
   "source": [
    "file_path = \"/Users/giuliamancini/Desktop/global_shark_attacks.csv\"\n",
    "df = pd.read_csv(file_path)\n"
   ]
  },
  {
   "cell_type": "markdown",
   "metadata": {},
   "source": [
    "Print to see the infos"
   ]
  },
  {
   "cell_type": "code",
   "execution_count": 21,
   "metadata": {},
   "outputs": [
    {
     "name": "stdout",
     "output_type": "stream",
     "text": [
      "\n",
      " * Dataset Info:\n",
      "<class 'pandas.core.frame.DataFrame'>\n",
      "RangeIndex: 6890 entries, 0 to 6889\n",
      "Data columns (total 13 columns):\n",
      " #   Column     Non-Null Count  Dtype  \n",
      "---  ------     --------------  -----  \n",
      " 0   date       6587 non-null   object \n",
      " 1   year       6758 non-null   float64\n",
      " 2   type       6871 non-null   object \n",
      " 3   country    6839 non-null   object \n",
      " 4   area       6409 non-null   object \n",
      " 5   location   6325 non-null   object \n",
      " 6   activity   6304 non-null   object \n",
      " 7   name       6670 non-null   object \n",
      " 8   sex        6318 non-null   object \n",
      " 9   age        3903 non-null   object \n",
      " 10  fatal_y_n  6890 non-null   object \n",
      " 11  time       3372 non-null   object \n",
      " 12  species    3772 non-null   object \n",
      "dtypes: float64(1), object(12)\n",
      "memory usage: 699.9+ KB\n",
      "None\n"
     ]
    }
   ],
   "source": [
    "print(\"\\n * Dataset Info:\")\n",
    "print(df.info())  "
   ]
  },
  {
   "cell_type": "markdown",
   "metadata": {},
   "source": [
    "Print to see the database"
   ]
  },
  {
   "cell_type": "code",
   "execution_count": 22,
   "metadata": {},
   "outputs": [
    {
     "name": "stdout",
     "output_type": "stream",
     "text": [
      "\n",
      " * Dataset Overview:\n",
      "         date    year        type    country                area  \\\n",
      "0  2023-05-13  2023.0  Unprovoked  AUSTRALIA     South Australia   \n",
      "1  2023-04-29  2023.0  Unprovoked  AUSTRALIA   Western Australia   \n",
      "2  2022-10-07  2022.0  Unprovoked  AUSTRALIA  Western  Australia   \n",
      "3  2021-10-04  2021.0  Unprovoked        USA             Florida   \n",
      "4  2021-10-03  2021.0  Unprovoked        USA             Florida   \n",
      "\n",
      "                                   location      activity                name  \\\n",
      "0                                  Elliston       Surfing    Simon Baccanello   \n",
      "1                      Yallingup, Busselton      Swimming                male   \n",
      "2                              Port Hedland  Spearfishing         Robbie Peck   \n",
      "3  Fort Pierce State Park, St. Lucie County       Surfing  Truman Van Patrick   \n",
      "4               Jensen Beach, Martin County      Swimming                male   \n",
      "\n",
      "  sex   age fatal_y_n   time      species  \n",
      "0   M    46         Y  10h10  White shark  \n",
      "1   M   NaN         N  11h20     1m shark  \n",
      "2   M    38         N  11h30   Bull shark  \n",
      "3   M  25.0         N    NaN          NaN  \n",
      "4   M   NaN         N  12h00          NaN  \n"
     ]
    }
   ],
   "source": [
    "print(\"\\n * Dataset Overview:\")\n",
    "print(df.head())"
   ]
  },
  {
   "cell_type": "markdown",
   "metadata": {},
   "source": [
    "Print to see how many NULL values we have in each column"
   ]
  },
  {
   "cell_type": "code",
   "execution_count": 23,
   "metadata": {},
   "outputs": [
    {
     "name": "stdout",
     "output_type": "stream",
     "text": [
      "\n",
      " * Dataset NUll Values:\n",
      "date          303\n",
      "year          132\n",
      "type           19\n",
      "country        51\n",
      "area          481\n",
      "location      565\n",
      "activity      586\n",
      "name          220\n",
      "sex           572\n",
      "age          2987\n",
      "fatal_y_n       0\n",
      "time         3518\n",
      "species      3118\n",
      "dtype: int64\n"
     ]
    }
   ],
   "source": [
    "print(\"\\n * Dataset NUll Values:\")\n",
    "print(df.isnull().sum())"
   ]
  },
  {
   "cell_type": "markdown",
   "metadata": {},
   "source": [
    "Observation: By loading the data and doing an initial analysis, we can see that we have: 13 columns and 6890 rows. \n",
    "\n",
    "The columns are: date, year, type, country, area, location, activity, name, sex, age, fatal_y_n, time, species\n",
    "\n",
    "Before proceeding I would like to clean the data so we can have a more accurate result in the following questions. "
   ]
  },
  {
   "cell_type": "markdown",
   "metadata": {},
   "source": [
    "By analysing a little bit further and looking at the missing values per column I decided that:\n",
    "\n",
    "Activity has 586 missing values, since this column is our main target variable I will remove those rows. \n",
    "\n",
    "Year has 132 missing values, I will drop the missing values and also convert it to integer. \n",
    "\n",
    "Sex have 572 missing values,  since is important for the analysis I will fill the missing values with \"Unknow\". I will also do that for age and species because they are going to be relavant later \n",
    "\n",
    "Time have too many missing values 3,518/6890 so I will drop the column. I will also drop date and name since they also have a lot of missing values.  \n",
    "\n",
    "Lastly I will remove the duplicates to ensure I have a clean data. "
   ]
  },
  {
   "cell_type": "markdown",
   "metadata": {},
   "source": [
    "Cleaning the data:"
   ]
  },
  {
   "cell_type": "code",
   "execution_count": 24,
   "metadata": {},
   "outputs": [
    {
     "name": "stdout",
     "output_type": "stream",
     "text": [
      "   year  type  country  area  location      activity  sex   age  fatal_y_n  \\\n",
      "0  2023     8       10   639      1047       Surfing    2  46.0          5   \n",
      "1  2023     8       10   766      4050      Swimming    2  24.0          2   \n",
      "2  2022     8       10   764      2968  Spearfishing    2  38.0          2   \n",
      "3  2021     8      195   241      1173       Surfing    2  25.0          2   \n",
      "4  2021     8      195   241      1561      Swimming    2  24.0          2   \n",
      "\n",
      "   species  \n",
      "0     1240  \n",
      "1      161  \n",
      "2      620  \n",
      "3     1230  \n",
      "4     1230  \n"
     ]
    }
   ],
   "source": [
    "# Step 1: Drop rows where 'activity' is missing (since we are predicting it)\n",
    "df_cleaned = df.dropna(subset=['activity'])\n",
    "\n",
    "# Step 2: Drop rows where 'year' is missing and convert it to integer\n",
    "df_cleaned = df_cleaned.dropna(subset=['year'])\n",
    "df_cleaned['year'] = df_cleaned['year'].astype(int)\n",
    "\n",
    "# Step 3: Fill missing values\n",
    "df_cleaned['sex'] = df_cleaned['sex'].fillna('Unknown')\n",
    "df_cleaned['species'] = df_cleaned['species'].fillna('Unknown')\n",
    "\n",
    "# Convert 'age' to numeric, filling NaNs with median age\n",
    "df_cleaned['age'] = pd.to_numeric(df_cleaned['age'], errors='coerce')  # Convert strings to numbers\n",
    "df_cleaned.loc[:, 'age'] = df_cleaned['age'].fillna(df_cleaned['age'].median())\n",
    "  # Fill NaNs with median\n",
    "\n",
    "# Step 4: Drop unnecessary columns\n",
    "df_cleaned = df_cleaned.drop(columns=['date', 'name', 'time'])\n",
    "\n",
    "# Step 5: Remove duplicates\n",
    "df_cleaned = df_cleaned.drop_duplicates()\n",
    "\n",
    "# Step 6: Encode categorical variables\n",
    "categorical_cols = ['type', 'country', 'area', 'location', 'sex', 'fatal_y_n', 'species']\n",
    "encoder = LabelEncoder()\n",
    "\n",
    "for col in categorical_cols:\n",
    "    df_cleaned[col] = encoder.fit_transform(df_cleaned[col])\n",
    "\n",
    "print(df_cleaned.head())  # To display the first few rows"
   ]
  },
  {
   "cell_type": "markdown",
   "metadata": {},
   "source": [
    "#### c) Make a variable for the activity to predict ‘Swimming’ or not (make it a binary variable). Report on the accuracy, and then produce a ROC curve"
   ]
  },
  {
   "cell_type": "code",
   "execution_count": 27,
   "metadata": {},
   "outputs": [],
   "source": [
    "# Convert 'activity' into binary classification (Swimming vs Not Swimming)\n",
    "def simplify_activity(activity):\n",
    "    return \"Swimming\" if \"swim\" in activity.lower() else \"Not Swimming\"\n",
    "\n",
    "df_cleaned['activity'] = df_cleaned['activity'].apply(simplify_activity)\n",
    "\n",
    "# Encode target variable\n",
    "y = encoder.fit_transform(df_cleaned['activity'])\n",
    "\n",
    "# Define features\n",
    "X = df_cleaned.drop(columns=['activity'])\n",
    "\n",
    "# Standardize features\n",
    "scaler = StandardScaler()\n",
    "X_scaled = scaler.fit_transform(X)\n",
    "\n",
    "# Split dataset into training and testing sets\n",
    "X_train, X_test, y_train, y_test = train_test_split(X_scaled, y, test_size=0.2, random_state=42)"
   ]
  },
  {
   "cell_type": "markdown",
   "metadata": {},
   "source": [
    "Train models (Logistic Regressision, Decision Tree and SVM)"
   ]
  },
  {
   "cell_type": "code",
   "execution_count": 28,
   "metadata": {},
   "outputs": [
    {
     "name": "stdout",
     "output_type": "stream",
     "text": [
      "\n",
      "========================================\n",
      " * Logistic Regression Results\n",
      "========================================\n",
      " Accuracy: 0.6810\n",
      "\n",
      " Classification Report:\n",
      "               precision    recall  f1-score   support\n",
      "\n",
      "           0       0.84      0.74      0.78       964\n",
      "           1       0.34      0.48      0.39       268\n",
      "\n",
      "    accuracy                           0.68      1232\n",
      "   macro avg       0.59      0.61      0.59      1232\n",
      "weighted avg       0.73      0.68      0.70      1232\n",
      "\n",
      "\n",
      "========================================\n",
      " * Decision Tree Results\n",
      "========================================\n",
      " Accuracy: 0.7330\n",
      "\n",
      " Classification Report:\n",
      "               precision    recall  f1-score   support\n",
      "\n",
      "           0       0.82      0.85      0.83       964\n",
      "           1       0.37      0.33      0.35       268\n",
      "\n",
      "    accuracy                           0.73      1232\n",
      "   macro avg       0.60      0.59      0.59      1232\n",
      "weighted avg       0.72      0.73      0.73      1232\n",
      "\n",
      "\n",
      "========================================\n",
      " * SVM Results\n",
      "========================================\n",
      " Accuracy: 0.7094\n",
      "\n",
      " Classification Report:\n",
      "               precision    recall  f1-score   support\n",
      "\n",
      "           0       0.83      0.79      0.81       964\n",
      "           1       0.35      0.41      0.38       268\n",
      "\n",
      "    accuracy                           0.71      1232\n",
      "   macro avg       0.59      0.60      0.59      1232\n",
      "weighted avg       0.72      0.71      0.72      1232\n",
      "\n"
     ]
    }
   ],
   "source": [
    "models = {\n",
    "    \"Logistic Regression\": LogisticRegression(random_state=42, max_iter=1000, class_weight='balanced'),\n",
    "    \"Decision Tree\": DecisionTreeClassifier(random_state=42, class_weight='balanced'),\n",
    "    \"SVM\": SVC(kernel='linear', random_state=42, class_weight='balanced', probability=True)\n",
    "}\n",
    "\n",
    "results = {}\n",
    "\n",
    "for model_name, model in models.items():\n",
    "    # Train the model\n",
    "    model.fit(X_train, y_train)\n",
    "    y_pred = model.predict(X_test)\n",
    "\n",
    "    # Evaluate the model\n",
    "    accuracy = accuracy_score(y_test, y_pred)\n",
    "    classification_rep = classification_report(y_test, y_pred)\n",
    "\n",
    "    # Store results\n",
    "    results[model_name] = {\n",
    "        \"Accuracy\": accuracy,\n",
    "        \"Classification Report\": classification_rep\n",
    "    }\n",
    "\n",
    "# Print Results:\n",
    "for model_name, metrics in results.items():\n",
    "    print(f\"\\n{'='*40}\\n * {model_name} Results\\n{'='*40}\")\n",
    "    print(f\" Accuracy: {metrics['Accuracy']:.4f}\")\n",
    "    print(\"\\n Classification Report:\\n\", metrics[\"Classification Report\"])"
   ]
  },
  {
   "cell_type": "markdown",
   "metadata": {},
   "source": [
    "Observation: \n",
    "\n",
    "Decision Tree achieved the highest accuracy (73.3%), making it the best at overall classification.\n",
    "\n",
    "Logistic Regression had the best recall for ‘Swimming’ (48%), meaning it identified more actual swimming cases.\n",
    "\n",
    "SVM (Support Vector Machine) was the most balanced model, achieving 71% accuracy with 41% recall for ‘Swimming’.\n",
    "    "
   ]
  },
  {
   "cell_type": "markdown",
   "metadata": {},
   "source": [
    "I needed to do the following steps because plotly wasn't working and I needed to install "
   ]
  },
  {
   "cell_type": "code",
   "execution_count": 40,
   "metadata": {},
   "outputs": [
    {
     "name": "stdout",
     "output_type": "stream",
     "text": [
      "Collecting plotly\n",
      "  Downloading plotly-6.0.1-py3-none-any.whl.metadata (6.7 kB)\n",
      "Collecting narwhals>=1.15.1 (from plotly)\n",
      "  Downloading narwhals-1.31.0-py3-none-any.whl.metadata (11 kB)\n",
      "Requirement already satisfied: packaging in /Library/Frameworks/Python.framework/Versions/3.13/lib/python3.13/site-packages (from plotly) (24.1)\n",
      "Downloading plotly-6.0.1-py3-none-any.whl (14.8 MB)\n",
      "\u001b[2K   \u001b[90m━━━━━━━━━━━━━━━━━━━━━━━━━━━━━━━━━━━━━━━━\u001b[0m \u001b[32m14.8/14.8 MB\u001b[0m \u001b[31m14.7 MB/s\u001b[0m eta \u001b[36m0:00:00\u001b[0m00:01\u001b[0m00:01\u001b[0m\n",
      "\u001b[?25hDownloading narwhals-1.31.0-py3-none-any.whl (313 kB)\n",
      "Installing collected packages: narwhals, plotly\n",
      "Successfully installed narwhals-1.31.0 plotly-6.0.1\n",
      "\n",
      "\u001b[1m[\u001b[0m\u001b[34;49mnotice\u001b[0m\u001b[1;39;49m]\u001b[0m\u001b[39;49m A new release of pip is available: \u001b[0m\u001b[31;49m24.3.1\u001b[0m\u001b[39;49m -> \u001b[0m\u001b[32;49m25.0.1\u001b[0m\n",
      "\u001b[1m[\u001b[0m\u001b[34;49mnotice\u001b[0m\u001b[1;39;49m]\u001b[0m\u001b[39;49m To update, run: \u001b[0m\u001b[32;49mpip3 install --upgrade pip\u001b[0m\n"
     ]
    }
   ],
   "source": [
    "import sys\n",
    "!{sys.executable} -m pip install plotly"
   ]
  },
  {
   "cell_type": "code",
   "execution_count": 41,
   "metadata": {},
   "outputs": [
    {
     "name": "stdout",
     "output_type": "stream",
     "text": [
      "6.0.1\n"
     ]
    }
   ],
   "source": [
    "import plotly\n",
    "print(plotly.__version__)\n"
   ]
  },
  {
   "cell_type": "markdown",
   "metadata": {},
   "source": [
    "Create the ROC curve for the Best Model"
   ]
  },
  {
   "cell_type": "code",
   "execution_count": 42,
   "metadata": {},
   "outputs": [
    {
     "data": {
      "application/vnd.plotly.v1+json": {
       "config": {
        "plotlyServerURL": "https://plot.ly"
       },
       "data": [
        {
         "mode": "lines",
         "name": "Logistic Regression (AUC = 0.66)",
         "type": "scatter",
         "x": {
          "bdata": "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",
          "dtype": "f8"
         },
         "y": {
          "bdata": "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",
          "dtype": "f8"
         }
        },
        {
         "mode": "lines",
         "name": "Decision Tree (AUC = 0.59)",
         "type": "scatter",
         "x": {
          "bdata": "AAAAAAAAAAB0w8hzw8jDPwAAAAAAAPA/",
          "dtype": "f8"
         },
         "y": {
          "bdata": "AAAAAAAAAAAXfjUm0gPVPwAAAAAAAPA/",
          "dtype": "f8"
         }
        },
        {
         "mode": "lines",
         "name": "SVM (AUC = 0.67)",
         "type": "scatter",
         "x": {
          "bdata": "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",
          "dtype": "f8"
         },
         "y": {
          "bdata": "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",
          "dtype": "f8"
         }
        },
        {
         "line": {
          "color": "gray",
          "dash": "dash"
         },
         "mode": "lines",
         "name": "Random Guessing",
         "type": "scatter",
         "x": [
          0,
          1
         ],
         "y": [
          0,
          1
         ]
        }
       ],
       "layout": {
        "template": {
         "data": {
          "bar": [
           {
            "error_x": {
             "color": "#2a3f5f"
            },
            "error_y": {
             "color": "#2a3f5f"
            },
            "marker": {
             "line": {
              "color": "white",
              "width": 0.5
             },
             "pattern": {
              "fillmode": "overlay",
              "size": 10,
              "solidity": 0.2
             }
            },
            "type": "bar"
           }
          ],
          "barpolar": [
           {
            "marker": {
             "line": {
              "color": "white",
              "width": 0.5
             },
             "pattern": {
              "fillmode": "overlay",
              "size": 10,
              "solidity": 0.2
             }
            },
            "type": "barpolar"
           }
          ],
          "carpet": [
           {
            "aaxis": {
             "endlinecolor": "#2a3f5f",
             "gridcolor": "#C8D4E3",
             "linecolor": "#C8D4E3",
             "minorgridcolor": "#C8D4E3",
             "startlinecolor": "#2a3f5f"
            },
            "baxis": {
             "endlinecolor": "#2a3f5f",
             "gridcolor": "#C8D4E3",
             "linecolor": "#C8D4E3",
             "minorgridcolor": "#C8D4E3",
             "startlinecolor": "#2a3f5f"
            },
            "type": "carpet"
           }
          ],
          "choropleth": [
           {
            "colorbar": {
             "outlinewidth": 0,
             "ticks": ""
            },
            "type": "choropleth"
           }
          ],
          "contour": [
           {
            "colorbar": {
             "outlinewidth": 0,
             "ticks": ""
            },
            "colorscale": [
             [
              0,
              "#0d0887"
             ],
             [
              0.1111111111111111,
              "#46039f"
             ],
             [
              0.2222222222222222,
              "#7201a8"
             ],
             [
              0.3333333333333333,
              "#9c179e"
             ],
             [
              0.4444444444444444,
              "#bd3786"
             ],
             [
              0.5555555555555556,
              "#d8576b"
             ],
             [
              0.6666666666666666,
              "#ed7953"
             ],
             [
              0.7777777777777778,
              "#fb9f3a"
             ],
             [
              0.8888888888888888,
              "#fdca26"
             ],
             [
              1,
              "#f0f921"
             ]
            ],
            "type": "contour"
           }
          ],
          "contourcarpet": [
           {
            "colorbar": {
             "outlinewidth": 0,
             "ticks": ""
            },
            "type": "contourcarpet"
           }
          ],
          "heatmap": [
           {
            "colorbar": {
             "outlinewidth": 0,
             "ticks": ""
            },
            "colorscale": [
             [
              0,
              "#0d0887"
             ],
             [
              0.1111111111111111,
              "#46039f"
             ],
             [
              0.2222222222222222,
              "#7201a8"
             ],
             [
              0.3333333333333333,
              "#9c179e"
             ],
             [
              0.4444444444444444,
              "#bd3786"
             ],
             [
              0.5555555555555556,
              "#d8576b"
             ],
             [
              0.6666666666666666,
              "#ed7953"
             ],
             [
              0.7777777777777778,
              "#fb9f3a"
             ],
             [
              0.8888888888888888,
              "#fdca26"
             ],
             [
              1,
              "#f0f921"
             ]
            ],
            "type": "heatmap"
           }
          ],
          "histogram": [
           {
            "marker": {
             "pattern": {
              "fillmode": "overlay",
              "size": 10,
              "solidity": 0.2
             }
            },
            "type": "histogram"
           }
          ],
          "histogram2d": [
           {
            "colorbar": {
             "outlinewidth": 0,
             "ticks": ""
            },
            "colorscale": [
             [
              0,
              "#0d0887"
             ],
             [
              0.1111111111111111,
              "#46039f"
             ],
             [
              0.2222222222222222,
              "#7201a8"
             ],
             [
              0.3333333333333333,
              "#9c179e"
             ],
             [
              0.4444444444444444,
              "#bd3786"
             ],
             [
              0.5555555555555556,
              "#d8576b"
             ],
             [
              0.6666666666666666,
              "#ed7953"
             ],
             [
              0.7777777777777778,
              "#fb9f3a"
             ],
             [
              0.8888888888888888,
              "#fdca26"
             ],
             [
              1,
              "#f0f921"
             ]
            ],
            "type": "histogram2d"
           }
          ],
          "histogram2dcontour": [
           {
            "colorbar": {
             "outlinewidth": 0,
             "ticks": ""
            },
            "colorscale": [
             [
              0,
              "#0d0887"
             ],
             [
              0.1111111111111111,
              "#46039f"
             ],
             [
              0.2222222222222222,
              "#7201a8"
             ],
             [
              0.3333333333333333,
              "#9c179e"
             ],
             [
              0.4444444444444444,
              "#bd3786"
             ],
             [
              0.5555555555555556,
              "#d8576b"
             ],
             [
              0.6666666666666666,
              "#ed7953"
             ],
             [
              0.7777777777777778,
              "#fb9f3a"
             ],
             [
              0.8888888888888888,
              "#fdca26"
             ],
             [
              1,
              "#f0f921"
             ]
            ],
            "type": "histogram2dcontour"
           }
          ],
          "mesh3d": [
           {
            "colorbar": {
             "outlinewidth": 0,
             "ticks": ""
            },
            "type": "mesh3d"
           }
          ],
          "parcoords": [
           {
            "line": {
             "colorbar": {
              "outlinewidth": 0,
              "ticks": ""
             }
            },
            "type": "parcoords"
           }
          ],
          "pie": [
           {
            "automargin": true,
            "type": "pie"
           }
          ],
          "scatter": [
           {
            "fillpattern": {
             "fillmode": "overlay",
             "size": 10,
             "solidity": 0.2
            },
            "type": "scatter"
           }
          ],
          "scatter3d": [
           {
            "line": {
             "colorbar": {
              "outlinewidth": 0,
              "ticks": ""
             }
            },
            "marker": {
             "colorbar": {
              "outlinewidth": 0,
              "ticks": ""
             }
            },
            "type": "scatter3d"
           }
          ],
          "scattercarpet": [
           {
            "marker": {
             "colorbar": {
              "outlinewidth": 0,
              "ticks": ""
             }
            },
            "type": "scattercarpet"
           }
          ],
          "scattergeo": [
           {
            "marker": {
             "colorbar": {
              "outlinewidth": 0,
              "ticks": ""
             }
            },
            "type": "scattergeo"
           }
          ],
          "scattergl": [
           {
            "marker": {
             "colorbar": {
              "outlinewidth": 0,
              "ticks": ""
             }
            },
            "type": "scattergl"
           }
          ],
          "scattermap": [
           {
            "marker": {
             "colorbar": {
              "outlinewidth": 0,
              "ticks": ""
             }
            },
            "type": "scattermap"
           }
          ],
          "scattermapbox": [
           {
            "marker": {
             "colorbar": {
              "outlinewidth": 0,
              "ticks": ""
             }
            },
            "type": "scattermapbox"
           }
          ],
          "scatterpolar": [
           {
            "marker": {
             "colorbar": {
              "outlinewidth": 0,
              "ticks": ""
             }
            },
            "type": "scatterpolar"
           }
          ],
          "scatterpolargl": [
           {
            "marker": {
             "colorbar": {
              "outlinewidth": 0,
              "ticks": ""
             }
            },
            "type": "scatterpolargl"
           }
          ],
          "scatterternary": [
           {
            "marker": {
             "colorbar": {
              "outlinewidth": 0,
              "ticks": ""
             }
            },
            "type": "scatterternary"
           }
          ],
          "surface": [
           {
            "colorbar": {
             "outlinewidth": 0,
             "ticks": ""
            },
            "colorscale": [
             [
              0,
              "#0d0887"
             ],
             [
              0.1111111111111111,
              "#46039f"
             ],
             [
              0.2222222222222222,
              "#7201a8"
             ],
             [
              0.3333333333333333,
              "#9c179e"
             ],
             [
              0.4444444444444444,
              "#bd3786"
             ],
             [
              0.5555555555555556,
              "#d8576b"
             ],
             [
              0.6666666666666666,
              "#ed7953"
             ],
             [
              0.7777777777777778,
              "#fb9f3a"
             ],
             [
              0.8888888888888888,
              "#fdca26"
             ],
             [
              1,
              "#f0f921"
             ]
            ],
            "type": "surface"
           }
          ],
          "table": [
           {
            "cells": {
             "fill": {
              "color": "#EBF0F8"
             },
             "line": {
              "color": "white"
             }
            },
            "header": {
             "fill": {
              "color": "#C8D4E3"
             },
             "line": {
              "color": "white"
             }
            },
            "type": "table"
           }
          ]
         },
         "layout": {
          "annotationdefaults": {
           "arrowcolor": "#2a3f5f",
           "arrowhead": 0,
           "arrowwidth": 1
          },
          "autotypenumbers": "strict",
          "coloraxis": {
           "colorbar": {
            "outlinewidth": 0,
            "ticks": ""
           }
          },
          "colorscale": {
           "diverging": [
            [
             0,
             "#8e0152"
            ],
            [
             0.1,
             "#c51b7d"
            ],
            [
             0.2,
             "#de77ae"
            ],
            [
             0.3,
             "#f1b6da"
            ],
            [
             0.4,
             "#fde0ef"
            ],
            [
             0.5,
             "#f7f7f7"
            ],
            [
             0.6,
             "#e6f5d0"
            ],
            [
             0.7,
             "#b8e186"
            ],
            [
             0.8,
             "#7fbc41"
            ],
            [
             0.9,
             "#4d9221"
            ],
            [
             1,
             "#276419"
            ]
           ],
           "sequential": [
            [
             0,
             "#0d0887"
            ],
            [
             0.1111111111111111,
             "#46039f"
            ],
            [
             0.2222222222222222,
             "#7201a8"
            ],
            [
             0.3333333333333333,
             "#9c179e"
            ],
            [
             0.4444444444444444,
             "#bd3786"
            ],
            [
             0.5555555555555556,
             "#d8576b"
            ],
            [
             0.6666666666666666,
             "#ed7953"
            ],
            [
             0.7777777777777778,
             "#fb9f3a"
            ],
            [
             0.8888888888888888,
             "#fdca26"
            ],
            [
             1,
             "#f0f921"
            ]
           ],
           "sequentialminus": [
            [
             0,
             "#0d0887"
            ],
            [
             0.1111111111111111,
             "#46039f"
            ],
            [
             0.2222222222222222,
             "#7201a8"
            ],
            [
             0.3333333333333333,
             "#9c179e"
            ],
            [
             0.4444444444444444,
             "#bd3786"
            ],
            [
             0.5555555555555556,
             "#d8576b"
            ],
            [
             0.6666666666666666,
             "#ed7953"
            ],
            [
             0.7777777777777778,
             "#fb9f3a"
            ],
            [
             0.8888888888888888,
             "#fdca26"
            ],
            [
             1,
             "#f0f921"
            ]
           ]
          },
          "colorway": [
           "#636efa",
           "#EF553B",
           "#00cc96",
           "#ab63fa",
           "#FFA15A",
           "#19d3f3",
           "#FF6692",
           "#B6E880",
           "#FF97FF",
           "#FECB52"
          ],
          "font": {
           "color": "#2a3f5f"
          },
          "geo": {
           "bgcolor": "white",
           "lakecolor": "white",
           "landcolor": "white",
           "showlakes": true,
           "showland": true,
           "subunitcolor": "#C8D4E3"
          },
          "hoverlabel": {
           "align": "left"
          },
          "hovermode": "closest",
          "mapbox": {
           "style": "light"
          },
          "paper_bgcolor": "white",
          "plot_bgcolor": "white",
          "polar": {
           "angularaxis": {
            "gridcolor": "#EBF0F8",
            "linecolor": "#EBF0F8",
            "ticks": ""
           },
           "bgcolor": "white",
           "radialaxis": {
            "gridcolor": "#EBF0F8",
            "linecolor": "#EBF0F8",
            "ticks": ""
           }
          },
          "scene": {
           "xaxis": {
            "backgroundcolor": "white",
            "gridcolor": "#DFE8F3",
            "gridwidth": 2,
            "linecolor": "#EBF0F8",
            "showbackground": true,
            "ticks": "",
            "zerolinecolor": "#EBF0F8"
           },
           "yaxis": {
            "backgroundcolor": "white",
            "gridcolor": "#DFE8F3",
            "gridwidth": 2,
            "linecolor": "#EBF0F8",
            "showbackground": true,
            "ticks": "",
            "zerolinecolor": "#EBF0F8"
           },
           "zaxis": {
            "backgroundcolor": "white",
            "gridcolor": "#DFE8F3",
            "gridwidth": 2,
            "linecolor": "#EBF0F8",
            "showbackground": true,
            "ticks": "",
            "zerolinecolor": "#EBF0F8"
           }
          },
          "shapedefaults": {
           "line": {
            "color": "#2a3f5f"
           }
          },
          "ternary": {
           "aaxis": {
            "gridcolor": "#DFE8F3",
            "linecolor": "#A2B1C6",
            "ticks": ""
           },
           "baxis": {
            "gridcolor": "#DFE8F3",
            "linecolor": "#A2B1C6",
            "ticks": ""
           },
           "bgcolor": "white",
           "caxis": {
            "gridcolor": "#DFE8F3",
            "linecolor": "#A2B1C6",
            "ticks": ""
           }
          },
          "title": {
           "x": 0.05
          },
          "xaxis": {
           "automargin": true,
           "gridcolor": "#EBF0F8",
           "linecolor": "#EBF0F8",
           "ticks": "",
           "title": {
            "standoff": 15
           },
           "zerolinecolor": "#EBF0F8",
           "zerolinewidth": 2
          },
          "yaxis": {
           "automargin": true,
           "gridcolor": "#EBF0F8",
           "linecolor": "#EBF0F8",
           "ticks": "",
           "title": {
            "standoff": 15
           },
           "zerolinecolor": "#EBF0F8",
           "zerolinewidth": 2
          }
         }
        },
        "title": {
         "text": "ROC Curve for Activity Prediction"
        },
        "xaxis": {
         "title": {
          "text": "False Positive Rate"
         }
        },
        "yaxis": {
         "title": {
          "text": "True Positive Rate"
         }
        }
       }
      }
     },
     "metadata": {},
     "output_type": "display_data"
    }
   ],
   "source": [
    "import plotly.graph_objects as go\n",
    "from sklearn.metrics import roc_curve, auc\n",
    "\n",
    "# Create a figure\n",
    "fig = go.Figure()\n",
    "\n",
    "for model_name, model in models.items():\n",
    "    y_probs = model.predict_proba(X_test)[:, 1]  # Get probability scores for class 1\n",
    "    fpr, tpr, _ = roc_curve(y_test, y_probs)\n",
    "    roc_auc = auc(fpr, tpr)\n",
    "    \n",
    "    fig.add_trace(go.Scatter(\n",
    "        x=fpr, y=tpr,\n",
    "        mode='lines',\n",
    "        name=f\"{model_name} (AUC = {roc_auc:.2f})\"\n",
    "    ))\n",
    "\n",
    "# Plot diagonal line for random guessing\n",
    "fig.add_trace(go.Scatter(\n",
    "    x=[0, 1], y=[0, 1],\n",
    "    mode='lines', line=dict(dash='dash', color=\"gray\"),\n",
    "    name=\"Random Guessing\"\n",
    "))\n",
    "\n",
    "# Customize layout\n",
    "fig.update_layout(\n",
    "    title=\"ROC Curve for Activity Prediction\",\n",
    "    xaxis_title=\"False Positive Rate\",\n",
    "    yaxis_title=\"True Positive Rate\",\n",
    "    template=\"plotly_white\"\n",
    ")\n",
    "\n",
    "# Show the interactive plot\n",
    "fig.show()\n"
   ]
  },
  {
   "cell_type": "markdown",
   "metadata": {},
   "source": [
    "Observations: \n",
    "\n",
    "SVM is the best model (AUC = 0.67), meaning it provides the best classification performance.\n",
    "\n",
    "Logistic Regression is a close second (AUC = 0.66), meaning the relationship between features and activity is likely linear.\n",
    "\n",
    "Decision Tree struggles (AUC = 0.59), possibly due to overfitting or lack of informative features\n"
   ]
  },
  {
   "cell_type": "markdown",
   "metadata": {},
   "source": [
    "d) Build 3 different models to predict the age and report the on the MSE and the most important variable from the relative importance"
   ]
  },
  {
   "cell_type": "markdown",
   "metadata": {},
   "source": [
    " Prepare Data for Regression"
   ]
  },
  {
   "cell_type": "code",
   "execution_count": 43,
   "metadata": {},
   "outputs": [],
   "source": [
    "# Ensure no missing values in 'age'\n",
    "df_cleaned = df_cleaned[df_cleaned['age'].notna()]\n",
    "\n",
    "# Define target variable (Age)\n",
    "y_age = df_cleaned['age']\n",
    "\n",
    "# Check if 'activity_binary' exists before dropping\n",
    "if 'activity_binary' in df_cleaned.columns:\n",
    "    X_age = df_cleaned.drop(columns=['age', 'activity', 'activity_binary'])\n",
    "else:\n",
    "    X_age = df_cleaned.drop(columns=['age', 'activity'])  # Drop only existing columns\n",
    "\n",
    "# Standardize features\n",
    "scaler = StandardScaler()\n",
    "X_age_scaled = scaler.fit_transform(X_age)\n",
    "\n",
    "# Split dataset into training and testing sets\n",
    "X_train_age, X_test_age, y_train_age, y_test_age = train_test_split(X_age_scaled, y_age, test_size=0.2, random_state=42)\n"
   ]
  },
  {
   "cell_type": "markdown",
   "metadata": {},
   "source": [
    "Define Regression Models"
   ]
  },
  {
   "cell_type": "code",
   "execution_count": 44,
   "metadata": {},
   "outputs": [],
   "source": [
    "regression_models = {\n",
    "    \"Linear Regression\": LinearRegression(),\n",
    "    \"Decision Tree Regressor\": DecisionTreeRegressor(random_state=42, max_depth=10),\n",
    "    \"Random Forest Regressor\": RandomForestRegressor(random_state=42, n_estimators=100)\n",
    "}"
   ]
  },
  {
   "cell_type": "markdown",
   "metadata": {},
   "source": [
    "Train and evaluate regression models"
   ]
  },
  {
   "cell_type": "code",
   "execution_count": 45,
   "metadata": {},
   "outputs": [
    {
     "name": "stdout",
     "output_type": "stream",
     "text": [
      "\n",
      "========================================\n",
      " * Linear Regression - Age Prediction\n",
      "========================================\n",
      " Mean Squared Error (MSE): 132.89\n",
      "\n",
      "========================================\n",
      " * Decision Tree Regressor - Age Prediction\n",
      "========================================\n",
      " Mean Squared Error (MSE): 165.27\n",
      "\n",
      "========================================\n",
      " * Random Forest Regressor - Age Prediction\n",
      "========================================\n",
      " Mean Squared Error (MSE): 140.00\n"
     ]
    }
   ],
   "source": [
    "regression_results = {}\n",
    "\n",
    "for model_name, model in regression_models.items():\n",
    "    model.fit(X_train_age, y_train_age)\n",
    "    y_pred_age = model.predict(X_test_age)\n",
    "\n",
    "    # Calculate Mean Squared Error (MSE)\n",
    "    mse = mean_squared_error(y_test_age, y_pred_age)\n",
    "\n",
    "    # Store results\n",
    "    regression_results[model_name] = {\n",
    "        \"MSE\": mse,\n",
    "        \"Model\": model\n",
    "    }\n",
    "\n",
    "# Print results\n",
    "for model_name, metrics in regression_results.items():\n",
    "    print(f\"\\n{'='*40}\\n * {model_name} - Age Prediction\\n{'='*40}\")\n",
    "    print(f\" Mean Squared Error (MSE): {metrics['MSE']:.2f}\")"
   ]
  },
  {
   "cell_type": "markdown",
   "metadata": {},
   "source": [
    "Observations: \n",
    "\n",
    "Linear Regression performed best with the lowest MSE of 132.89. This suggests that age has a linear relationship with variables sucha as location, year and species. \n",
    "\n",
    "Random Forest performed better that Decision Tree but worse than Linear Regression. It has a MSE of 140 which means it has some non-linear relationships but may nor generalize well.\n",
    "\n",
    "Lastly Decision Tree has the worst performance with a MSE of 165.27. This probably did happen because of overfitting to training data that led to a poor generalization. \n"
   ]
  },
  {
   "cell_type": "markdown",
   "metadata": {},
   "source": [
    "Feature importance "
   ]
  },
  {
   "cell_type": "code",
   "execution_count": 46,
   "metadata": {},
   "outputs": [],
   "source": [
    "feature_importance = regression_results[\"Random Forest Regressor\"][\"Model\"].feature_importances_\n",
    "feature_names = X_age.columns"
   ]
  },
  {
   "cell_type": "code",
   "execution_count": 48,
   "metadata": {},
   "outputs": [
    {
     "data": {
      "application/vnd.plotly.v1+json": {
       "config": {
        "plotlyServerURL": "https://plot.ly"
       },
       "data": [
        {
         "marker": {
          "color": "blue"
         },
         "text": {
          "bdata": "yYPsWMLO0T+qlfWFjk7OPwQ8gB8SycY/ByO9OcdawT82Iz+fyaOxPzdvKgQEuaI/HKnz6YJcoT8esDOPM2OgPw==",
          "dtype": "f8"
         },
         "textposition": "outside",
         "type": "bar",
         "x": [
          "location",
          "year",
          "species",
          "area",
          "country",
          "sex",
          "fatal_y_n",
          "type"
         ],
         "y": {
          "bdata": "yYPsWMLO0T+qlfWFjk7OPwQ8gB8SycY/ByO9OcdawT82Iz+fyaOxPzdvKgQEuaI/HKnz6YJcoT8esDOPM2OgPw==",
          "dtype": "f8"
         }
        }
       ],
       "layout": {
        "template": {
         "data": {
          "bar": [
           {
            "error_x": {
             "color": "#2a3f5f"
            },
            "error_y": {
             "color": "#2a3f5f"
            },
            "marker": {
             "line": {
              "color": "white",
              "width": 0.5
             },
             "pattern": {
              "fillmode": "overlay",
              "size": 10,
              "solidity": 0.2
             }
            },
            "type": "bar"
           }
          ],
          "barpolar": [
           {
            "marker": {
             "line": {
              "color": "white",
              "width": 0.5
             },
             "pattern": {
              "fillmode": "overlay",
              "size": 10,
              "solidity": 0.2
             }
            },
            "type": "barpolar"
           }
          ],
          "carpet": [
           {
            "aaxis": {
             "endlinecolor": "#2a3f5f",
             "gridcolor": "#C8D4E3",
             "linecolor": "#C8D4E3",
             "minorgridcolor": "#C8D4E3",
             "startlinecolor": "#2a3f5f"
            },
            "baxis": {
             "endlinecolor": "#2a3f5f",
             "gridcolor": "#C8D4E3",
             "linecolor": "#C8D4E3",
             "minorgridcolor": "#C8D4E3",
             "startlinecolor": "#2a3f5f"
            },
            "type": "carpet"
           }
          ],
          "choropleth": [
           {
            "colorbar": {
             "outlinewidth": 0,
             "ticks": ""
            },
            "type": "choropleth"
           }
          ],
          "contour": [
           {
            "colorbar": {
             "outlinewidth": 0,
             "ticks": ""
            },
            "colorscale": [
             [
              0,
              "#0d0887"
             ],
             [
              0.1111111111111111,
              "#46039f"
             ],
             [
              0.2222222222222222,
              "#7201a8"
             ],
             [
              0.3333333333333333,
              "#9c179e"
             ],
             [
              0.4444444444444444,
              "#bd3786"
             ],
             [
              0.5555555555555556,
              "#d8576b"
             ],
             [
              0.6666666666666666,
              "#ed7953"
             ],
             [
              0.7777777777777778,
              "#fb9f3a"
             ],
             [
              0.8888888888888888,
              "#fdca26"
             ],
             [
              1,
              "#f0f921"
             ]
            ],
            "type": "contour"
           }
          ],
          "contourcarpet": [
           {
            "colorbar": {
             "outlinewidth": 0,
             "ticks": ""
            },
            "type": "contourcarpet"
           }
          ],
          "heatmap": [
           {
            "colorbar": {
             "outlinewidth": 0,
             "ticks": ""
            },
            "colorscale": [
             [
              0,
              "#0d0887"
             ],
             [
              0.1111111111111111,
              "#46039f"
             ],
             [
              0.2222222222222222,
              "#7201a8"
             ],
             [
              0.3333333333333333,
              "#9c179e"
             ],
             [
              0.4444444444444444,
              "#bd3786"
             ],
             [
              0.5555555555555556,
              "#d8576b"
             ],
             [
              0.6666666666666666,
              "#ed7953"
             ],
             [
              0.7777777777777778,
              "#fb9f3a"
             ],
             [
              0.8888888888888888,
              "#fdca26"
             ],
             [
              1,
              "#f0f921"
             ]
            ],
            "type": "heatmap"
           }
          ],
          "histogram": [
           {
            "marker": {
             "pattern": {
              "fillmode": "overlay",
              "size": 10,
              "solidity": 0.2
             }
            },
            "type": "histogram"
           }
          ],
          "histogram2d": [
           {
            "colorbar": {
             "outlinewidth": 0,
             "ticks": ""
            },
            "colorscale": [
             [
              0,
              "#0d0887"
             ],
             [
              0.1111111111111111,
              "#46039f"
             ],
             [
              0.2222222222222222,
              "#7201a8"
             ],
             [
              0.3333333333333333,
              "#9c179e"
             ],
             [
              0.4444444444444444,
              "#bd3786"
             ],
             [
              0.5555555555555556,
              "#d8576b"
             ],
             [
              0.6666666666666666,
              "#ed7953"
             ],
             [
              0.7777777777777778,
              "#fb9f3a"
             ],
             [
              0.8888888888888888,
              "#fdca26"
             ],
             [
              1,
              "#f0f921"
             ]
            ],
            "type": "histogram2d"
           }
          ],
          "histogram2dcontour": [
           {
            "colorbar": {
             "outlinewidth": 0,
             "ticks": ""
            },
            "colorscale": [
             [
              0,
              "#0d0887"
             ],
             [
              0.1111111111111111,
              "#46039f"
             ],
             [
              0.2222222222222222,
              "#7201a8"
             ],
             [
              0.3333333333333333,
              "#9c179e"
             ],
             [
              0.4444444444444444,
              "#bd3786"
             ],
             [
              0.5555555555555556,
              "#d8576b"
             ],
             [
              0.6666666666666666,
              "#ed7953"
             ],
             [
              0.7777777777777778,
              "#fb9f3a"
             ],
             [
              0.8888888888888888,
              "#fdca26"
             ],
             [
              1,
              "#f0f921"
             ]
            ],
            "type": "histogram2dcontour"
           }
          ],
          "mesh3d": [
           {
            "colorbar": {
             "outlinewidth": 0,
             "ticks": ""
            },
            "type": "mesh3d"
           }
          ],
          "parcoords": [
           {
            "line": {
             "colorbar": {
              "outlinewidth": 0,
              "ticks": ""
             }
            },
            "type": "parcoords"
           }
          ],
          "pie": [
           {
            "automargin": true,
            "type": "pie"
           }
          ],
          "scatter": [
           {
            "fillpattern": {
             "fillmode": "overlay",
             "size": 10,
             "solidity": 0.2
            },
            "type": "scatter"
           }
          ],
          "scatter3d": [
           {
            "line": {
             "colorbar": {
              "outlinewidth": 0,
              "ticks": ""
             }
            },
            "marker": {
             "colorbar": {
              "outlinewidth": 0,
              "ticks": ""
             }
            },
            "type": "scatter3d"
           }
          ],
          "scattercarpet": [
           {
            "marker": {
             "colorbar": {
              "outlinewidth": 0,
              "ticks": ""
             }
            },
            "type": "scattercarpet"
           }
          ],
          "scattergeo": [
           {
            "marker": {
             "colorbar": {
              "outlinewidth": 0,
              "ticks": ""
             }
            },
            "type": "scattergeo"
           }
          ],
          "scattergl": [
           {
            "marker": {
             "colorbar": {
              "outlinewidth": 0,
              "ticks": ""
             }
            },
            "type": "scattergl"
           }
          ],
          "scattermap": [
           {
            "marker": {
             "colorbar": {
              "outlinewidth": 0,
              "ticks": ""
             }
            },
            "type": "scattermap"
           }
          ],
          "scattermapbox": [
           {
            "marker": {
             "colorbar": {
              "outlinewidth": 0,
              "ticks": ""
             }
            },
            "type": "scattermapbox"
           }
          ],
          "scatterpolar": [
           {
            "marker": {
             "colorbar": {
              "outlinewidth": 0,
              "ticks": ""
             }
            },
            "type": "scatterpolar"
           }
          ],
          "scatterpolargl": [
           {
            "marker": {
             "colorbar": {
              "outlinewidth": 0,
              "ticks": ""
             }
            },
            "type": "scatterpolargl"
           }
          ],
          "scatterternary": [
           {
            "marker": {
             "colorbar": {
              "outlinewidth": 0,
              "ticks": ""
             }
            },
            "type": "scatterternary"
           }
          ],
          "surface": [
           {
            "colorbar": {
             "outlinewidth": 0,
             "ticks": ""
            },
            "colorscale": [
             [
              0,
              "#0d0887"
             ],
             [
              0.1111111111111111,
              "#46039f"
             ],
             [
              0.2222222222222222,
              "#7201a8"
             ],
             [
              0.3333333333333333,
              "#9c179e"
             ],
             [
              0.4444444444444444,
              "#bd3786"
             ],
             [
              0.5555555555555556,
              "#d8576b"
             ],
             [
              0.6666666666666666,
              "#ed7953"
             ],
             [
              0.7777777777777778,
              "#fb9f3a"
             ],
             [
              0.8888888888888888,
              "#fdca26"
             ],
             [
              1,
              "#f0f921"
             ]
            ],
            "type": "surface"
           }
          ],
          "table": [
           {
            "cells": {
             "fill": {
              "color": "#EBF0F8"
             },
             "line": {
              "color": "white"
             }
            },
            "header": {
             "fill": {
              "color": "#C8D4E3"
             },
             "line": {
              "color": "white"
             }
            },
            "type": "table"
           }
          ]
         },
         "layout": {
          "annotationdefaults": {
           "arrowcolor": "#2a3f5f",
           "arrowhead": 0,
           "arrowwidth": 1
          },
          "autotypenumbers": "strict",
          "coloraxis": {
           "colorbar": {
            "outlinewidth": 0,
            "ticks": ""
           }
          },
          "colorscale": {
           "diverging": [
            [
             0,
             "#8e0152"
            ],
            [
             0.1,
             "#c51b7d"
            ],
            [
             0.2,
             "#de77ae"
            ],
            [
             0.3,
             "#f1b6da"
            ],
            [
             0.4,
             "#fde0ef"
            ],
            [
             0.5,
             "#f7f7f7"
            ],
            [
             0.6,
             "#e6f5d0"
            ],
            [
             0.7,
             "#b8e186"
            ],
            [
             0.8,
             "#7fbc41"
            ],
            [
             0.9,
             "#4d9221"
            ],
            [
             1,
             "#276419"
            ]
           ],
           "sequential": [
            [
             0,
             "#0d0887"
            ],
            [
             0.1111111111111111,
             "#46039f"
            ],
            [
             0.2222222222222222,
             "#7201a8"
            ],
            [
             0.3333333333333333,
             "#9c179e"
            ],
            [
             0.4444444444444444,
             "#bd3786"
            ],
            [
             0.5555555555555556,
             "#d8576b"
            ],
            [
             0.6666666666666666,
             "#ed7953"
            ],
            [
             0.7777777777777778,
             "#fb9f3a"
            ],
            [
             0.8888888888888888,
             "#fdca26"
            ],
            [
             1,
             "#f0f921"
            ]
           ],
           "sequentialminus": [
            [
             0,
             "#0d0887"
            ],
            [
             0.1111111111111111,
             "#46039f"
            ],
            [
             0.2222222222222222,
             "#7201a8"
            ],
            [
             0.3333333333333333,
             "#9c179e"
            ],
            [
             0.4444444444444444,
             "#bd3786"
            ],
            [
             0.5555555555555556,
             "#d8576b"
            ],
            [
             0.6666666666666666,
             "#ed7953"
            ],
            [
             0.7777777777777778,
             "#fb9f3a"
            ],
            [
             0.8888888888888888,
             "#fdca26"
            ],
            [
             1,
             "#f0f921"
            ]
           ]
          },
          "colorway": [
           "#636efa",
           "#EF553B",
           "#00cc96",
           "#ab63fa",
           "#FFA15A",
           "#19d3f3",
           "#FF6692",
           "#B6E880",
           "#FF97FF",
           "#FECB52"
          ],
          "font": {
           "color": "#2a3f5f"
          },
          "geo": {
           "bgcolor": "white",
           "lakecolor": "white",
           "landcolor": "white",
           "showlakes": true,
           "showland": true,
           "subunitcolor": "#C8D4E3"
          },
          "hoverlabel": {
           "align": "left"
          },
          "hovermode": "closest",
          "mapbox": {
           "style": "light"
          },
          "paper_bgcolor": "white",
          "plot_bgcolor": "white",
          "polar": {
           "angularaxis": {
            "gridcolor": "#EBF0F8",
            "linecolor": "#EBF0F8",
            "ticks": ""
           },
           "bgcolor": "white",
           "radialaxis": {
            "gridcolor": "#EBF0F8",
            "linecolor": "#EBF0F8",
            "ticks": ""
           }
          },
          "scene": {
           "xaxis": {
            "backgroundcolor": "white",
            "gridcolor": "#DFE8F3",
            "gridwidth": 2,
            "linecolor": "#EBF0F8",
            "showbackground": true,
            "ticks": "",
            "zerolinecolor": "#EBF0F8"
           },
           "yaxis": {
            "backgroundcolor": "white",
            "gridcolor": "#DFE8F3",
            "gridwidth": 2,
            "linecolor": "#EBF0F8",
            "showbackground": true,
            "ticks": "",
            "zerolinecolor": "#EBF0F8"
           },
           "zaxis": {
            "backgroundcolor": "white",
            "gridcolor": "#DFE8F3",
            "gridwidth": 2,
            "linecolor": "#EBF0F8",
            "showbackground": true,
            "ticks": "",
            "zerolinecolor": "#EBF0F8"
           }
          },
          "shapedefaults": {
           "line": {
            "color": "#2a3f5f"
           }
          },
          "ternary": {
           "aaxis": {
            "gridcolor": "#DFE8F3",
            "linecolor": "#A2B1C6",
            "ticks": ""
           },
           "baxis": {
            "gridcolor": "#DFE8F3",
            "linecolor": "#A2B1C6",
            "ticks": ""
           },
           "bgcolor": "white",
           "caxis": {
            "gridcolor": "#DFE8F3",
            "linecolor": "#A2B1C6",
            "ticks": ""
           }
          },
          "title": {
           "x": 0.05
          },
          "xaxis": {
           "automargin": true,
           "gridcolor": "#EBF0F8",
           "linecolor": "#EBF0F8",
           "ticks": "",
           "title": {
            "standoff": 15
           },
           "zerolinecolor": "#EBF0F8",
           "zerolinewidth": 2
          },
          "yaxis": {
           "automargin": true,
           "gridcolor": "#EBF0F8",
           "linecolor": "#EBF0F8",
           "ticks": "",
           "title": {
            "standoff": 15
           },
           "zerolinecolor": "#EBF0F8",
           "zerolinewidth": 2
          }
         }
        },
        "title": {
         "text": "Feature Importance - Random Forest Regressor for Age Prediction"
        },
        "xaxis": {
         "tickangle": -45,
         "title": {
          "text": "Feature"
         }
        },
        "yaxis": {
         "title": {
          "text": "Importance Score"
         }
        }
       }
      }
     },
     "metadata": {},
     "output_type": "display_data"
    }
   ],
   "source": [
    "import plotly.graph_objects as go\n",
    "import numpy as np\n",
    "\n",
    "# Sort feature importances in descending order\n",
    "sorted_idx = np.argsort(feature_importance)[::-1]\n",
    "\n",
    "# Create a Plotly bar chart\n",
    "fig = go.Figure()\n",
    "\n",
    "fig.add_trace(go.Bar(\n",
    "    x=[feature_names[i] for i in sorted_idx],\n",
    "    y=feature_importance[sorted_idx],\n",
    "    marker=dict(color=\"blue\"),\n",
    "    text=feature_importance[sorted_idx],\n",
    "    textposition=\"outside\"\n",
    "))\n",
    "\n",
    "# Customize layout\n",
    "fig.update_layout(\n",
    "    title=\"Feature Importance - Random Forest Regressor for Age Prediction\",\n",
    "    xaxis_title=\"Feature\",\n",
    "    yaxis_title=\"Importance Score\",\n",
    "    template=\"plotly_white\",\n",
    "    xaxis_tickangle=-45\n",
    ")\n",
    "\n",
    "# Show the interactive plot\n",
    "fig.show()\n"
   ]
  },
  {
   "cell_type": "markdown",
   "metadata": {},
   "source": [
    "Observations: We uses the Random Foresr Regressor for Age Prediction\n",
    "\n",
    "Location is the most influential factor in predicting a person's age, with the highest importance score (0.27).\n",
    "\n",
    "Year is the second most important feature (0.24), suggesting that the time period of the attack has a strong correlation with age.\n",
    "\n",
    "Species of the shark is also significant (0.18), indicating that certain shark species might be associated with attacks on people of certain age groups.\n",
    "\n",
    "Area where the attack happened has a moderate influence (0.14).\n",
    "\n",
    "Country (0.07) has some predictive power, but it is not as strong as location.\n",
    "\n",
    "Sex, fatality (yes/no), and type of attack contribute very little to predicting age\n",
    "\n",
    "In summary: \n",
    "\n",
    "The dominance of location and years suggest to us that reginal and temporal factors strongly influence the age distriibutiuon of shark attack victims. Species also matters, which indicates that certain age groups may be prone to attacks from specific sharks "
   ]
  },
  {
   "cell_type": "markdown",
   "metadata": {},
   "source": [
    "Now lets compare with other models:"
   ]
  },
  {
   "cell_type": "code",
   "execution_count": 49,
   "metadata": {},
   "outputs": [
    {
     "data": {
      "application/vnd.plotly.v1+json": {
       "config": {
        "plotlyServerURL": "https://plot.ly"
       },
       "data": [
        {
         "name": "Linear Regression",
         "type": "bar",
         "x": [
          "location",
          "year",
          "species",
          "area",
          "country",
          "sex",
          "fatal_y_n",
          "type"
         ],
         "y": {
          "bdata": "0q/Bz6Qiij8AAAAAAADwP8erPSrB6bU/BSJLlJOxuz/JybYinfHSP6QMo2a318w/8NjRq7pi1j+c7KLuORHLPw==",
          "dtype": "f8"
         }
        },
        {
         "name": "Decision Tree",
         "type": "bar",
         "x": [
          "location",
          "year",
          "species",
          "area",
          "country",
          "sex",
          "fatal_y_n",
          "type"
         ],
         "y": {
          "bdata": "D65rv+ov6z8AAAAAAADwP7uxeiNYe+Y//KNwhziW5j97kdy47ZbXP/Cr5V1Y9L4/6i+omX8a0j8xB3FKbeDAPw==",
          "dtype": "f8"
         }
        },
        {
         "name": "Random Forest",
         "type": "bar",
         "x": [
          "location",
          "year",
          "species",
          "area",
          "country",
          "sex",
          "fatal_y_n",
          "type"
         ],
         "y": {
          "bdata": "AAAAAAAA8D/n45yH/DrrPzDQidX0eOQ/cmFJpJUv3z+ZfxPqx7LPPy49cCd60sA/0ore8LIyvz+Rk9WisXK9Pw==",
          "dtype": "f8"
         }
        }
       ],
       "layout": {
        "barmode": "group",
        "template": {
         "data": {
          "bar": [
           {
            "error_x": {
             "color": "#2a3f5f"
            },
            "error_y": {
             "color": "#2a3f5f"
            },
            "marker": {
             "line": {
              "color": "white",
              "width": 0.5
             },
             "pattern": {
              "fillmode": "overlay",
              "size": 10,
              "solidity": 0.2
             }
            },
            "type": "bar"
           }
          ],
          "barpolar": [
           {
            "marker": {
             "line": {
              "color": "white",
              "width": 0.5
             },
             "pattern": {
              "fillmode": "overlay",
              "size": 10,
              "solidity": 0.2
             }
            },
            "type": "barpolar"
           }
          ],
          "carpet": [
           {
            "aaxis": {
             "endlinecolor": "#2a3f5f",
             "gridcolor": "#C8D4E3",
             "linecolor": "#C8D4E3",
             "minorgridcolor": "#C8D4E3",
             "startlinecolor": "#2a3f5f"
            },
            "baxis": {
             "endlinecolor": "#2a3f5f",
             "gridcolor": "#C8D4E3",
             "linecolor": "#C8D4E3",
             "minorgridcolor": "#C8D4E3",
             "startlinecolor": "#2a3f5f"
            },
            "type": "carpet"
           }
          ],
          "choropleth": [
           {
            "colorbar": {
             "outlinewidth": 0,
             "ticks": ""
            },
            "type": "choropleth"
           }
          ],
          "contour": [
           {
            "colorbar": {
             "outlinewidth": 0,
             "ticks": ""
            },
            "colorscale": [
             [
              0,
              "#0d0887"
             ],
             [
              0.1111111111111111,
              "#46039f"
             ],
             [
              0.2222222222222222,
              "#7201a8"
             ],
             [
              0.3333333333333333,
              "#9c179e"
             ],
             [
              0.4444444444444444,
              "#bd3786"
             ],
             [
              0.5555555555555556,
              "#d8576b"
             ],
             [
              0.6666666666666666,
              "#ed7953"
             ],
             [
              0.7777777777777778,
              "#fb9f3a"
             ],
             [
              0.8888888888888888,
              "#fdca26"
             ],
             [
              1,
              "#f0f921"
             ]
            ],
            "type": "contour"
           }
          ],
          "contourcarpet": [
           {
            "colorbar": {
             "outlinewidth": 0,
             "ticks": ""
            },
            "type": "contourcarpet"
           }
          ],
          "heatmap": [
           {
            "colorbar": {
             "outlinewidth": 0,
             "ticks": ""
            },
            "colorscale": [
             [
              0,
              "#0d0887"
             ],
             [
              0.1111111111111111,
              "#46039f"
             ],
             [
              0.2222222222222222,
              "#7201a8"
             ],
             [
              0.3333333333333333,
              "#9c179e"
             ],
             [
              0.4444444444444444,
              "#bd3786"
             ],
             [
              0.5555555555555556,
              "#d8576b"
             ],
             [
              0.6666666666666666,
              "#ed7953"
             ],
             [
              0.7777777777777778,
              "#fb9f3a"
             ],
             [
              0.8888888888888888,
              "#fdca26"
             ],
             [
              1,
              "#f0f921"
             ]
            ],
            "type": "heatmap"
           }
          ],
          "histogram": [
           {
            "marker": {
             "pattern": {
              "fillmode": "overlay",
              "size": 10,
              "solidity": 0.2
             }
            },
            "type": "histogram"
           }
          ],
          "histogram2d": [
           {
            "colorbar": {
             "outlinewidth": 0,
             "ticks": ""
            },
            "colorscale": [
             [
              0,
              "#0d0887"
             ],
             [
              0.1111111111111111,
              "#46039f"
             ],
             [
              0.2222222222222222,
              "#7201a8"
             ],
             [
              0.3333333333333333,
              "#9c179e"
             ],
             [
              0.4444444444444444,
              "#bd3786"
             ],
             [
              0.5555555555555556,
              "#d8576b"
             ],
             [
              0.6666666666666666,
              "#ed7953"
             ],
             [
              0.7777777777777778,
              "#fb9f3a"
             ],
             [
              0.8888888888888888,
              "#fdca26"
             ],
             [
              1,
              "#f0f921"
             ]
            ],
            "type": "histogram2d"
           }
          ],
          "histogram2dcontour": [
           {
            "colorbar": {
             "outlinewidth": 0,
             "ticks": ""
            },
            "colorscale": [
             [
              0,
              "#0d0887"
             ],
             [
              0.1111111111111111,
              "#46039f"
             ],
             [
              0.2222222222222222,
              "#7201a8"
             ],
             [
              0.3333333333333333,
              "#9c179e"
             ],
             [
              0.4444444444444444,
              "#bd3786"
             ],
             [
              0.5555555555555556,
              "#d8576b"
             ],
             [
              0.6666666666666666,
              "#ed7953"
             ],
             [
              0.7777777777777778,
              "#fb9f3a"
             ],
             [
              0.8888888888888888,
              "#fdca26"
             ],
             [
              1,
              "#f0f921"
             ]
            ],
            "type": "histogram2dcontour"
           }
          ],
          "mesh3d": [
           {
            "colorbar": {
             "outlinewidth": 0,
             "ticks": ""
            },
            "type": "mesh3d"
           }
          ],
          "parcoords": [
           {
            "line": {
             "colorbar": {
              "outlinewidth": 0,
              "ticks": ""
             }
            },
            "type": "parcoords"
           }
          ],
          "pie": [
           {
            "automargin": true,
            "type": "pie"
           }
          ],
          "scatter": [
           {
            "fillpattern": {
             "fillmode": "overlay",
             "size": 10,
             "solidity": 0.2
            },
            "type": "scatter"
           }
          ],
          "scatter3d": [
           {
            "line": {
             "colorbar": {
              "outlinewidth": 0,
              "ticks": ""
             }
            },
            "marker": {
             "colorbar": {
              "outlinewidth": 0,
              "ticks": ""
             }
            },
            "type": "scatter3d"
           }
          ],
          "scattercarpet": [
           {
            "marker": {
             "colorbar": {
              "outlinewidth": 0,
              "ticks": ""
             }
            },
            "type": "scattercarpet"
           }
          ],
          "scattergeo": [
           {
            "marker": {
             "colorbar": {
              "outlinewidth": 0,
              "ticks": ""
             }
            },
            "type": "scattergeo"
           }
          ],
          "scattergl": [
           {
            "marker": {
             "colorbar": {
              "outlinewidth": 0,
              "ticks": ""
             }
            },
            "type": "scattergl"
           }
          ],
          "scattermap": [
           {
            "marker": {
             "colorbar": {
              "outlinewidth": 0,
              "ticks": ""
             }
            },
            "type": "scattermap"
           }
          ],
          "scattermapbox": [
           {
            "marker": {
             "colorbar": {
              "outlinewidth": 0,
              "ticks": ""
             }
            },
            "type": "scattermapbox"
           }
          ],
          "scatterpolar": [
           {
            "marker": {
             "colorbar": {
              "outlinewidth": 0,
              "ticks": ""
             }
            },
            "type": "scatterpolar"
           }
          ],
          "scatterpolargl": [
           {
            "marker": {
             "colorbar": {
              "outlinewidth": 0,
              "ticks": ""
             }
            },
            "type": "scatterpolargl"
           }
          ],
          "scatterternary": [
           {
            "marker": {
             "colorbar": {
              "outlinewidth": 0,
              "ticks": ""
             }
            },
            "type": "scatterternary"
           }
          ],
          "surface": [
           {
            "colorbar": {
             "outlinewidth": 0,
             "ticks": ""
            },
            "colorscale": [
             [
              0,
              "#0d0887"
             ],
             [
              0.1111111111111111,
              "#46039f"
             ],
             [
              0.2222222222222222,
              "#7201a8"
             ],
             [
              0.3333333333333333,
              "#9c179e"
             ],
             [
              0.4444444444444444,
              "#bd3786"
             ],
             [
              0.5555555555555556,
              "#d8576b"
             ],
             [
              0.6666666666666666,
              "#ed7953"
             ],
             [
              0.7777777777777778,
              "#fb9f3a"
             ],
             [
              0.8888888888888888,
              "#fdca26"
             ],
             [
              1,
              "#f0f921"
             ]
            ],
            "type": "surface"
           }
          ],
          "table": [
           {
            "cells": {
             "fill": {
              "color": "#EBF0F8"
             },
             "line": {
              "color": "white"
             }
            },
            "header": {
             "fill": {
              "color": "#C8D4E3"
             },
             "line": {
              "color": "white"
             }
            },
            "type": "table"
           }
          ]
         },
         "layout": {
          "annotationdefaults": {
           "arrowcolor": "#2a3f5f",
           "arrowhead": 0,
           "arrowwidth": 1
          },
          "autotypenumbers": "strict",
          "coloraxis": {
           "colorbar": {
            "outlinewidth": 0,
            "ticks": ""
           }
          },
          "colorscale": {
           "diverging": [
            [
             0,
             "#8e0152"
            ],
            [
             0.1,
             "#c51b7d"
            ],
            [
             0.2,
             "#de77ae"
            ],
            [
             0.3,
             "#f1b6da"
            ],
            [
             0.4,
             "#fde0ef"
            ],
            [
             0.5,
             "#f7f7f7"
            ],
            [
             0.6,
             "#e6f5d0"
            ],
            [
             0.7,
             "#b8e186"
            ],
            [
             0.8,
             "#7fbc41"
            ],
            [
             0.9,
             "#4d9221"
            ],
            [
             1,
             "#276419"
            ]
           ],
           "sequential": [
            [
             0,
             "#0d0887"
            ],
            [
             0.1111111111111111,
             "#46039f"
            ],
            [
             0.2222222222222222,
             "#7201a8"
            ],
            [
             0.3333333333333333,
             "#9c179e"
            ],
            [
             0.4444444444444444,
             "#bd3786"
            ],
            [
             0.5555555555555556,
             "#d8576b"
            ],
            [
             0.6666666666666666,
             "#ed7953"
            ],
            [
             0.7777777777777778,
             "#fb9f3a"
            ],
            [
             0.8888888888888888,
             "#fdca26"
            ],
            [
             1,
             "#f0f921"
            ]
           ],
           "sequentialminus": [
            [
             0,
             "#0d0887"
            ],
            [
             0.1111111111111111,
             "#46039f"
            ],
            [
             0.2222222222222222,
             "#7201a8"
            ],
            [
             0.3333333333333333,
             "#9c179e"
            ],
            [
             0.4444444444444444,
             "#bd3786"
            ],
            [
             0.5555555555555556,
             "#d8576b"
            ],
            [
             0.6666666666666666,
             "#ed7953"
            ],
            [
             0.7777777777777778,
             "#fb9f3a"
            ],
            [
             0.8888888888888888,
             "#fdca26"
            ],
            [
             1,
             "#f0f921"
            ]
           ]
          },
          "colorway": [
           "#636efa",
           "#EF553B",
           "#00cc96",
           "#ab63fa",
           "#FFA15A",
           "#19d3f3",
           "#FF6692",
           "#B6E880",
           "#FF97FF",
           "#FECB52"
          ],
          "font": {
           "color": "#2a3f5f"
          },
          "geo": {
           "bgcolor": "white",
           "lakecolor": "white",
           "landcolor": "white",
           "showlakes": true,
           "showland": true,
           "subunitcolor": "#C8D4E3"
          },
          "hoverlabel": {
           "align": "left"
          },
          "hovermode": "closest",
          "mapbox": {
           "style": "light"
          },
          "paper_bgcolor": "white",
          "plot_bgcolor": "white",
          "polar": {
           "angularaxis": {
            "gridcolor": "#EBF0F8",
            "linecolor": "#EBF0F8",
            "ticks": ""
           },
           "bgcolor": "white",
           "radialaxis": {
            "gridcolor": "#EBF0F8",
            "linecolor": "#EBF0F8",
            "ticks": ""
           }
          },
          "scene": {
           "xaxis": {
            "backgroundcolor": "white",
            "gridcolor": "#DFE8F3",
            "gridwidth": 2,
            "linecolor": "#EBF0F8",
            "showbackground": true,
            "ticks": "",
            "zerolinecolor": "#EBF0F8"
           },
           "yaxis": {
            "backgroundcolor": "white",
            "gridcolor": "#DFE8F3",
            "gridwidth": 2,
            "linecolor": "#EBF0F8",
            "showbackground": true,
            "ticks": "",
            "zerolinecolor": "#EBF0F8"
           },
           "zaxis": {
            "backgroundcolor": "white",
            "gridcolor": "#DFE8F3",
            "gridwidth": 2,
            "linecolor": "#EBF0F8",
            "showbackground": true,
            "ticks": "",
            "zerolinecolor": "#EBF0F8"
           }
          },
          "shapedefaults": {
           "line": {
            "color": "#2a3f5f"
           }
          },
          "ternary": {
           "aaxis": {
            "gridcolor": "#DFE8F3",
            "linecolor": "#A2B1C6",
            "ticks": ""
           },
           "baxis": {
            "gridcolor": "#DFE8F3",
            "linecolor": "#A2B1C6",
            "ticks": ""
           },
           "bgcolor": "white",
           "caxis": {
            "gridcolor": "#DFE8F3",
            "linecolor": "#A2B1C6",
            "ticks": ""
           }
          },
          "title": {
           "x": 0.05
          },
          "xaxis": {
           "automargin": true,
           "gridcolor": "#EBF0F8",
           "linecolor": "#EBF0F8",
           "ticks": "",
           "title": {
            "standoff": 15
           },
           "zerolinecolor": "#EBF0F8",
           "zerolinewidth": 2
          },
          "yaxis": {
           "automargin": true,
           "gridcolor": "#EBF0F8",
           "linecolor": "#EBF0F8",
           "ticks": "",
           "title": {
            "standoff": 15
           },
           "zerolinecolor": "#EBF0F8",
           "zerolinewidth": 2
          }
         }
        },
        "title": {
         "text": "Feature Importance Comparison Across Models"
        },
        "xaxis": {
         "title": {
          "text": "Feature"
         }
        },
        "yaxis": {
         "title": {
          "text": "Importance Score (Normalized)"
         }
        }
       }
      }
     },
     "metadata": {},
     "output_type": "display_data"
    }
   ],
   "source": [
    "import plotly.graph_objects as go\n",
    "import numpy as np\n",
    "\n",
    "# Extract feature importance for each model\n",
    "feature_importance = {}\n",
    "\n",
    "# Linear Regression (Use absolute coefficient values)\n",
    "feature_importance[\"Linear Regression\"] = np.abs(regression_results[\"Linear Regression\"][\"Model\"].coef_)\n",
    "\n",
    "# Decision Tree Regressor\n",
    "feature_importance[\"Decision Tree\"] = regression_results[\"Decision Tree Regressor\"][\"Model\"].feature_importances_\n",
    "\n",
    "# Random Forest Regressor\n",
    "feature_importance[\"Random Forest\"] = regression_results[\"Random Forest Regressor\"][\"Model\"].feature_importances_\n",
    "\n",
    "# Normalize values for comparison\n",
    "max_values = {model: max(importance) for model, importance in feature_importance.items()}\n",
    "feature_importance = {model: importance / max_values[model] for model, importance in feature_importance.items()}\n",
    "\n",
    "feature_names = X_age.columns\n",
    "sorted_idx = np.argsort(feature_importance[\"Random Forest\"])[::-1]  # Sort by Random Forest importance\n",
    "\n",
    "# Create a Plotly Figure\n",
    "fig = go.Figure()\n",
    "\n",
    "# Add bars for each model\n",
    "for model_name, importance in feature_importance.items():\n",
    "    fig.add_trace(go.Bar(\n",
    "        x=[feature_names[i] for i in sorted_idx],\n",
    "        y=importance[sorted_idx],\n",
    "        name=model_name\n",
    "    ))\n",
    "\n",
    "# Customize layout\n",
    "fig.update_layout(\n",
    "    title=\"Feature Importance Comparison Across Models\",\n",
    "    xaxis_title=\"Feature\",\n",
    "    yaxis_title=\"Importance Score (Normalized)\",\n",
    "    barmode=\"group\",\n",
    "    template=\"plotly_white\"\n",
    ")\n",
    "\n",
    "# Show the interactive plot\n",
    "fig.show()"
   ]
  },
  {
   "cell_type": "markdown",
   "metadata": {},
   "source": [
    "Observations:\n",
    "\n",
    "By doing a comparision between the 3 models:\n",
    "\n",
    "Linear Regression relies heavily on \"year\" as seen on the graph. \n",
    "\n",
    "Decision Tree finds non-linear relationships, emphasizing \"area\" and \"species\".\n",
    "\n",
    "Random Forest is the most balanced, showing the overall importance of all features.\n",
    "\n",
    "Year & Location are the best predictors of Age as mentioned in the analysis for the Random Forest. \n",
    "\n"
   ]
  }
 ],
 "metadata": {
  "kernelspec": {
   "display_name": "Python 3",
   "language": "python",
   "name": "python3"
  },
  "language_info": {
   "codemirror_mode": {
    "name": "ipython",
    "version": 3
   },
   "file_extension": ".py",
   "mimetype": "text/x-python",
   "name": "python",
   "nbconvert_exporter": "python",
   "pygments_lexer": "ipython3",
   "version": "3.13.0"
  }
 },
 "nbformat": 4,
 "nbformat_minor": 2
}
